{
  "metadata": {
    "kernelspec": {
      "name": "python3",
      "display_name": "Python 3",
      "language": "python"
    },
    "analyzedDataset": "weather",
    "creator": "admin",
    "createdOn": 1654790316878,
    "tags": [],
    "customFields": {},
    "hide_input": false,
    "language_info": {
      "name": "python",
      "version": "3.6.15",
      "mimetype": "text/x-python",
      "codemirror_mode": {
        "name": "ipython",
        "version": 3
      },
      "pygments_lexer": "ipython3",
      "nbconvert_exporter": "python",
      "file_extension": ".py"
    },
    "modifiedBy": "admin"
  },
  "nbformat": 4,
  "nbformat_minor": 1,
  "cells": [
    {
      "execution_count": 1,
      "cell_type": "code",
      "metadata": {},
      "source": [
        "%pylab inline"
      ],
      "outputs": [
        {
          "output_type": "stream",
          "text": "Populating the interactive namespace from numpy and matplotlib\n",
          "name": "stdout"
        }
      ]
    },
    {
      "execution_count": 35,
      "cell_type": "code",
      "metadata": {},
      "source": [
        "import dataiku\nfrom dataiku import pandasutils as pdu\nimport pandas as pd"
      ],
      "outputs": []
    },
    {
      "execution_count": 37,
      "cell_type": "code",
      "metadata": {},
      "source": [
        "from preprocessing.weather import TM_handling"
      ],
      "outputs": []
    },
    {
      "execution_count": 43,
      "cell_type": "code",
      "metadata": {},
      "source": [
        "# Read the dataset as a Pandas dataframe in memory\n# Note: here, we only read the first 100K rows. Other sampling options are available\ndataset_weather \u003d dataiku.Dataset(\"weather\")\ndf \u003d dataset_weather.get_dataframe(limit\u003d1000)"
      ],
      "outputs": []
    },
    {
      "execution_count": 45,
      "cell_type": "code",
      "metadata": {
        "scrolled": true
      },
      "source": [
        "df \u003d TM_handling(df, [\"PrecipTotal\", \"SnowFall\", \"Water1\"])"
      ],
      "outputs": []
    }
  ]
}